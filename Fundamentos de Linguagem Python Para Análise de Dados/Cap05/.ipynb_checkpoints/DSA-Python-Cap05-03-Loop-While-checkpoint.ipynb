{
 "cells": [
  {
   "cell_type": "markdown",
   "id": "65fdce36",
   "metadata": {},
   "source": [
    "## Data Science Academy \n",
    "## Fundamentos da Linguagem Python Para Análise de Dados e Data Science\n",
    "## Capítulo 5 - Loop While"
   ]
  },
  {
   "cell_type": "code",
   "execution_count": 2,
   "id": "290a9179",
   "metadata": {},
   "outputs": [
    {
     "name": "stdout",
     "output_type": "stream",
     "text": [
      "Versão da Linguagem Python Usada Neste Jupyter Notebook:  3.10.9\n"
     ]
    }
   ],
   "source": [
    "# Versão da Linguagem Python\n",
    "from platform import python_version\n",
    "print(\"Versão da Linguagem Python Usada Neste Jupyter Notebook: \", python_version())"
   ]
  },
  {
   "cell_type": "markdown",
   "id": "1a005fc6",
   "metadata": {},
   "source": [
    "### Loop While"
   ]
  },
  {
   "cell_type": "code",
   "execution_count": 3,
   "id": "c7485116",
   "metadata": {},
   "outputs": [
    {
     "name": "stdout",
     "output_type": "stream",
     "text": [
      "0\n",
      "1\n",
      "2\n",
      "3\n",
      "4\n",
      "5\n",
      "6\n",
      "7\n",
      "8\n",
      "9\n"
     ]
    }
   ],
   "source": [
    "# Usando a Loop While para imprimir os valores de 0 a 9\n",
    "# A Condição tem que deixar de ser verdadeira dentro do loop, senão pode travar o navegador ou mesmo o cumputador.\n",
    "valor = 0\n",
    "while valor < 10:\n",
    "    print(valor)\n",
    "    valor = valor + 1"
   ]
  },
  {
   "cell_type": "code",
   "execution_count": 4,
   "id": "8562b0f2",
   "metadata": {},
   "outputs": [],
   "source": [
    "valor = 11\n",
    "while valor < 10:\n",
    "    print(valor)\n",
    "    valor = valor + 1"
   ]
  },
  {
   "cell_type": "code",
   "execution_count": 7,
   "id": "03ebc894",
   "metadata": {},
   "outputs": [
    {
     "name": "stdout",
     "output_type": "stream",
     "text": [
      "O valor de x nesta interação é:  0\n",
      "x ainda é menor que 10, somando 1 a x\n",
      "O valor de x nesta interação é:  1\n",
      "x ainda é menor que 10, somando 1 a x\n",
      "O valor de x nesta interação é:  2\n",
      "x ainda é menor que 10, somando 1 a x\n",
      "O valor de x nesta interação é:  3\n",
      "x ainda é menor que 10, somando 1 a x\n",
      "O valor de x nesta interação é:  4\n",
      "x ainda é menor que 10, somando 1 a x\n",
      "O valor de x nesta interação é:  5\n",
      "x ainda é menor que 10, somando 1 a x\n",
      "O valor de x nesta interação é:  6\n",
      "x ainda é menor que 10, somando 1 a x\n",
      "O valor de x nesta interação é:  7\n",
      "x ainda é menor que 10, somando 1 a x\n",
      "O valor de x nesta interação é:  8\n",
      "x ainda é menor que 10, somando 1 a x\n",
      "O valor de x nesta interação é:  9\n",
      "x ainda é menor que 10, somando 1 a x\n",
      "Loop concluído! 10\n"
     ]
    }
   ],
   "source": [
    "# Também é possível usar a cláusula else para encerrar o loop while\n",
    "x = 0\n",
    "\n",
    "while x < 10:\n",
    "    print(\"O valor de x nesta interação é: \", x)\n",
    "    print(\"x ainda é menor que 10, somando 1 a x\")\n",
    "    x += 1\n",
    "else:\n",
    "    print(\"Loop concluído!\", x)\n"
   ]
  },
  {
   "cell_type": "markdown",
   "id": "9231e82a",
   "metadata": {},
   "source": [
    "### Pass, Break, continue"
   ]
  },
  {
   "cell_type": "code",
   "execution_count": 8,
   "id": "8e31bc7a",
   "metadata": {},
   "outputs": [
    {
     "name": "stdout",
     "output_type": "stream",
     "text": [
      "0\n",
      "1\n",
      "2\n",
      "3\n"
     ]
    }
   ],
   "source": [
    "# Se encontramos o número 4 interrompemos o loop\n",
    "valor = 0\n",
    "while valor < 10:\n",
    "    if valor == 4:\n",
    "        break\n",
    "    else: \n",
    "        pass\n",
    "    print(valor)\n",
    "    valor = valor + 1"
   ]
  },
  {
   "cell_type": "code",
   "execution_count": 10,
   "id": "97783d53",
   "metadata": {},
   "outputs": [
    {
     "name": "stdout",
     "output_type": "stream",
     "text": [
      "P\n",
      "y\n",
      "t\n",
      "h\n",
      "o\n",
      "n\n",
      " \n",
      "é\n",
      " \n",
      " \n",
      "i\n",
      "n\n",
      "c\n",
      "r\n",
      "í\n",
      "v\n",
      "e\n",
      "l\n",
      "!\n"
     ]
    }
   ],
   "source": [
    "# Desconsideramos a letra z ao imprimir os caracteres da frase\n",
    "for letra in \"Python é zzz incrível!\":\n",
    "    if letra == \"z\":\n",
    "        continue\n",
    "    print(letra)"
   ]
  },
  {
   "cell_type": "markdown",
   "id": "e019575b",
   "metadata": {},
   "source": [
    "### While e For Juntos\n",
    "#### Vamos encontrar números primos em uma coleção de números usando loop While e For juntos.\n",
    "#### Um número primo é um número natural maior do que 1 que é divisível apenas por 1 e por ele mesmo. Isso significa que\n",
    "#### não há nenhum outro númeiro inteiro que possa dividir o número primo sem deixar resto. Por exemplo:\n",
    "#### O número 2 é um número primo, pois é divisível por 1 e 2. O Número 4 não é primo, pois é divisível por 2."
   ]
  },
  {
   "cell_type": "raw",
   "id": "ea2dd900",
   "metadata": {},
   "source": [
    "Inicialize uma lista vazia para armazenar os números primos\n",
    "Para cada número N entre 2 e 30:\n",
    "  Inicialize uma variável eh_primo como verdadeira\n",
    "  Para cada número i entre 2 e N/2:\n",
    "    Se N é divisível por i, então:\n",
    "      Altere a variável eh_primo para falso\n",
    "      Pare de verificar os outros números\n",
    "  Se a variável eh_primo ainda é verdadeira, adicione N à lista de números primos\n",
    "Imprima a lista de números primos"
   ]
  },
  {
   "cell_type": "code",
   "execution_count": 12,
   "id": "176531f9",
   "metadata": {},
   "outputs": [
    {
     "name": "stdout",
     "output_type": "stream",
     "text": [
      "[2, 3, 5, 7, 11, 13, 17, 19, 23, 29]\n",
      "CPU times: total: 0 ns\n",
      "Wall time: 997 µs\n"
     ]
    }
   ],
   "source": [
    "%%time\n",
    "\n",
    "# Encontrando números primos entre 2 e 30 usando loop for e while\n",
    "\n",
    "# VAriável para armazenar números primos\n",
    "primos = []\n",
    "\n",
    "# Loop for para percorrer números de 2 a 30\n",
    "for num in range(2, 30):\n",
    "    # Variável de controle\n",
    "    eh_primo = True\n",
    "    \n",
    "    # Loop while para verificar se o número é primo\n",
    "    \n",
    "    i = 2\n",
    "    \n",
    "    while i <= num // 2:\n",
    "        if num % i == 0:\n",
    "            eh_primo = False\n",
    "        i += 1\n",
    "    # Adicionando o número primo a lista \n",
    "    if eh_primo:\n",
    "        primos.append(num)\n",
    "# Imprimindo a lista de números primos\n",
    "print(primos)"
   ]
  },
  {
   "cell_type": "code",
   "execution_count": 17,
   "id": "72e59607",
   "metadata": {},
   "outputs": [
    {
     "name": "stdout",
     "output_type": "stream",
     "text": [
      "2 é um número primo.\n",
      "3 é um número primo.\n",
      "5 é um número primo.\n",
      "7 é um número primo.\n",
      "11 é um número primo.\n",
      "13 é um número primo.\n",
      "17 é um número primo.\n",
      "19 é um número primo.\n",
      "23 é um número primo.\n",
      "29 é um número primo.\n",
      "CPU times: total: 0 ns\n",
      "Wall time: 998 µs\n"
     ]
    }
   ],
   "source": [
    "%%time\n",
    "# Encontrando núemros primos entre 2 e 30 usando loop for e while (outro exemplo)\n",
    "\n",
    "# Loop for para percorrer números de 2 a 30\n",
    "for i in range(2, 31):\n",
    "    \n",
    "    # Variável de controle\n",
    "    \n",
    "    j = 2\n",
    "    \n",
    "    # Contador \n",
    "    valor = 0\n",
    "    \n",
    "    # Loop while para verificar se um número é primo\n",
    "    while j < i:\n",
    "        if i % j == 0:\n",
    "            valor = 1\n",
    "            j = j + 1\n",
    "        else:\n",
    "            j = j + 1\n",
    "    if valor == 0:\n",
    "        print(str(i) + \" é um número primo.\")\n",
    "    else:\n",
    "        valor = 0"
   ]
  },
  {
   "cell_type": "markdown",
   "id": "d863c69c",
   "metadata": {},
   "source": [
    "### Fim\n",
    "### Obrigado\n",
    "### Visite o Blog da Data Science Academy - Blog DSA"
   ]
  }
 ],
 "metadata": {
  "kernelspec": {
   "display_name": "Python 3 (ipykernel)",
   "language": "python",
   "name": "python3"
  },
  "language_info": {
   "codemirror_mode": {
    "name": "ipython",
    "version": 3
   },
   "file_extension": ".py",
   "mimetype": "text/x-python",
   "name": "python",
   "nbconvert_exporter": "python",
   "pygments_lexer": "ipython3",
   "version": "3.10.9"
  }
 },
 "nbformat": 4,
 "nbformat_minor": 5
}
