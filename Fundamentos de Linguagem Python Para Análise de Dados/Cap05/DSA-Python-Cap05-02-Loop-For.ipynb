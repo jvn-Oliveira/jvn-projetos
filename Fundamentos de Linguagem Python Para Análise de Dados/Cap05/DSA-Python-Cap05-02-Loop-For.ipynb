{
 "cells": [
  {
   "cell_type": "markdown",
   "id": "701c0a53",
   "metadata": {},
   "source": [
    "## Data Science Academy\n",
    "### Fundamentos da Linguagem Python Para Análise de Dados e Data Science\n",
    "### Capítulo 5 - Loop For"
   ]
  },
  {
   "cell_type": "code",
   "execution_count": 1,
   "id": "a4af9e71",
   "metadata": {},
   "outputs": [
    {
     "name": "stdout",
     "output_type": "stream",
     "text": [
      "Versão da Linguagem Python Usada Neste Jupyter Notebook:  3.10.9\n"
     ]
    }
   ],
   "source": [
    "# Versão da Linguagem Python\n",
    "from platform import python_version\n",
    "print(\"Versão da Linguagem Python Usada Neste Jupyter Notebook: \", python_version())"
   ]
  },
  {
   "cell_type": "markdown",
   "id": "e84c4085",
   "metadata": {},
   "source": [
    "### Loop For"
   ]
  },
  {
   "cell_type": "code",
   "execution_count": 2,
   "id": "1fb5c7c1",
   "metadata": {},
   "outputs": [
    {
     "name": "stdout",
     "output_type": "stream",
     "text": [
      "2\n",
      "3\n",
      "4\n"
     ]
    }
   ],
   "source": [
    "# Criando uma tupla e imprimindo cada um dos valores\n",
    "tp = (2,3,4)\n",
    "for i in tp:\n",
    "    print(i)"
   ]
  },
  {
   "cell_type": "code",
   "execution_count": 3,
   "id": "f216c8e7",
   "metadata": {},
   "outputs": [
    {
     "name": "stdout",
     "output_type": "stream",
     "text": [
      "Data\n",
      "Science\n",
      "Academy\n"
     ]
    }
   ],
   "source": [
    "# Criando uma lista e imprimindo cada um dos valores\n",
    "ListaDeString = ['Data', 'Science', 'Academy']\n",
    "for i in ListaDeString:\n",
    "    print(i)"
   ]
  },
  {
   "cell_type": "code",
   "execution_count": 4,
   "id": "04f4832b",
   "metadata": {},
   "outputs": [
    {
     "name": "stdout",
     "output_type": "stream",
     "text": [
      "0\n",
      "1\n",
      "2\n",
      "3\n",
      "4\n"
     ]
    }
   ],
   "source": [
    "# Imprimindo os valores no intervalo entre 0 e 5\n",
    "for contador in range(0,5):\n",
    "    print(contador)"
   ]
  },
  {
   "cell_type": "code",
   "execution_count": 5,
   "id": "f3832f50",
   "metadata": {},
   "outputs": [
    {
     "name": "stdout",
     "output_type": "stream",
     "text": [
      "2\n",
      "4\n",
      "6\n",
      "8\n",
      "10\n"
     ]
    }
   ],
   "source": [
    "# Imprimindo os numeros pares da lista de números\n",
    "lista = [1, 2, 3, 4, 5, 6, 7, 8 ,9 ,10]\n",
    "for num in lista:\n",
    "    if num % 2 == 0:\n",
    "        print(num)"
   ]
  },
  {
   "cell_type": "code",
   "execution_count": 6,
   "id": "d2b1bfa4",
   "metadata": {},
   "outputs": [
    {
     "name": "stdout",
     "output_type": "stream",
     "text": [
      "0\n",
      "2\n",
      "4\n",
      "6\n",
      "8\n",
      "10\n",
      "12\n",
      "14\n",
      "16\n",
      "18\n",
      "20\n",
      "22\n",
      "24\n",
      "26\n",
      "28\n",
      "30\n",
      "32\n",
      "34\n",
      "36\n",
      "38\n",
      "40\n",
      "42\n",
      "44\n",
      "46\n",
      "48\n",
      "50\n",
      "52\n",
      "54\n",
      "56\n",
      "58\n",
      "60\n",
      "62\n",
      "64\n",
      "66\n",
      "68\n",
      "70\n",
      "72\n",
      "74\n",
      "76\n",
      "78\n",
      "80\n",
      "82\n",
      "84\n",
      "86\n",
      "88\n",
      "90\n",
      "92\n",
      "94\n",
      "96\n",
      "98\n",
      "100\n"
     ]
    }
   ],
   "source": [
    "# Listando os números no intervalo de 0 e 101, com incremento em 2\n",
    "for i in range(0, 101, 2):\n",
    "    print(i)"
   ]
  },
  {
   "cell_type": "code",
   "execution_count": 7,
   "id": "36d76cc4",
   "metadata": {},
   "outputs": [
    {
     "name": "stdout",
     "output_type": "stream",
     "text": [
      "P\n",
      "y\n",
      "t\n",
      "h\n",
      "o\n",
      "n\n",
      " \n",
      "é\n",
      " \n",
      "u\n",
      "m\n",
      "a\n",
      " \n",
      "l\n",
      "i\n",
      "n\n",
      "g\n",
      "u\n",
      "a\n",
      "g\n",
      "e\n",
      "m\n",
      " \n",
      "d\n",
      "e\n",
      " \n",
      "p\n",
      "r\n",
      "o\n",
      "g\n",
      "r\n",
      "a\n",
      "m\n",
      "a\n",
      "ç\n",
      "ã\n",
      "o\n",
      " \n",
      "d\n",
      "i\n",
      "v\n",
      "e\n",
      "r\n",
      "t\n",
      "i\n",
      "d\n",
      "a\n",
      "!\n"
     ]
    }
   ],
   "source": [
    "# Strings também são sequências\n",
    "for caracter in 'Python é uma linguagem de programação divertida!':\n",
    "    print(caracter)"
   ]
  },
  {
   "cell_type": "markdown",
   "id": "430f941a",
   "metadata": {},
   "source": [
    "### Loop For Aninhado"
   ]
  },
  {
   "cell_type": "code",
   "execution_count": 8,
   "id": "8799f94f",
   "metadata": {},
   "outputs": [
    {
     "name": "stdout",
     "output_type": "stream",
     "text": [
      "\n",
      " 0\n",
      "- -\n",
      "\n",
      " 0\n",
      "- -\n",
      "\n",
      " 0\n",
      "- -\n",
      "\n",
      " 1\n",
      "- -\n",
      "\n",
      " 2\n",
      "- -\n",
      "\n",
      " 3\n",
      "- -\n",
      "\n",
      " 2\n",
      "- -\n",
      "\n",
      " 4\n",
      "- -\n",
      "\n",
      " 6\n",
      "- -\n",
      "\n",
      " 3\n",
      "- -\n",
      "\n",
      " 6\n",
      "- -\n",
      "\n",
      " 9\n",
      "- -\n",
      "\n",
      " 4\n",
      "- -\n",
      "\n",
      " 8\n",
      "- -\n",
      "\n",
      " 12\n",
      "- -\n"
     ]
    }
   ],
   "source": [
    "# Loops aninhados\n",
    "\n",
    "lista1 = [0, 1, 2, 3, 4]\n",
    "lista2 = [1, 2, 3]\n",
    "\n",
    "# Loop externo\n",
    "for elemento_lista1 in lista1:\n",
    "    \n",
    "    #Loop interno\n",
    "    for elemento_lista2 in lista2:\n",
    "        print('\\n', elemento_lista1 * elemento_lista2)\n",
    "        print('- -')"
   ]
  },
  {
   "cell_type": "markdown",
   "id": "fb9d3617",
   "metadata": {},
   "source": [
    "### Loop For Aninhado"
   ]
  },
  {
   "cell_type": "code",
   "execution_count": 9,
   "id": "fc8801ca",
   "metadata": {},
   "outputs": [
    {
     "name": "stdout",
     "output_type": "stream",
     "text": [
      "\n",
      " 0\n",
      "\n",
      " 0\n",
      "\n",
      " 0\n",
      "----\n",
      "\n",
      " 1\n",
      "\n",
      " 2\n",
      "\n",
      " 3\n",
      "----\n",
      "\n",
      " 2\n",
      "\n",
      " 4\n",
      "\n",
      " 6\n",
      "----\n",
      "\n",
      " 3\n",
      "\n",
      " 6\n",
      "\n",
      " 9\n",
      "----\n",
      "\n",
      " 4\n",
      "\n",
      " 8\n",
      "\n",
      " 12\n",
      "----\n"
     ]
    }
   ],
   "source": [
    "# Loop aninhado.\n",
    "lista1 = [0, 1, 2, 3, 4]\n",
    "lista2 = [1, 2, 3]\n",
    "# Loop externo\n",
    "for elemento_lista1 in lista1:\n",
    "    \n",
    "    #Loop interno\n",
    "    for elemento_lista2 in lista2:\n",
    "        print('\\n', elemento_lista1 * elemento_lista2)\n",
    "    print('----')\n"
   ]
  },
  {
   "cell_type": "code",
   "execution_count": 10,
   "id": "32b22d59",
   "metadata": {},
   "outputs": [
    {
     "name": "stdout",
     "output_type": "stream",
     "text": [
      "O número 47 foi encontrado nas duas listas!\n"
     ]
    }
   ],
   "source": [
    "#O número 47 aparece nas duas listas?\n",
    "lista1 = [10, 16, 24, 39, 47]\n",
    "lista2 = [32, 89, 47, 76, 12]\n",
    "\n",
    "#Loop externo\n",
    "for elemento_lista1 in lista1:\n",
    "    # Loop interno\n",
    "    for elemento_lista2 in lista2:\n",
    "        \n",
    "        #Condicional \n",
    "        if elemento_lista1 == 47 and elemento_lista2 == 47:\n",
    "            print(\"O número 47 foi encontrado nas duas listas!\")"
   ]
  },
  {
   "cell_type": "code",
   "execution_count": 11,
   "id": "ed3f9c26",
   "metadata": {},
   "outputs": [
    {
     "name": "stdout",
     "output_type": "stream",
     "text": [
      "A soma dos números pares das duas listas é igua a:  170\n"
     ]
    }
   ],
   "source": [
    "# Some os números pares da primeira lista com os números pares da segunda lista\n",
    "lista1 = [10, 16, 24, 39, 47]\n",
    "lista2 = [32, 89, 47, 76, 12]\n",
    "soma = 0\n",
    "#Loop interno\n",
    "for lista in [lista1, lista2]:\n",
    "    \n",
    "    #Loop interno\n",
    "    for num in lista:\n",
    "        \n",
    "        #Condicional\n",
    "        if num % 2 == 0:\n",
    "            soma += num\n",
    "print(\"A soma dos números pares das duas listas é igua a: \", soma)\n",
    "        "
   ]
  },
  {
   "cell_type": "code",
   "execution_count": 12,
   "id": "0328efd9",
   "metadata": {},
   "outputs": [
    {
     "data": {
      "text/plain": [
       "[10, 16, 24, 39, 47, 32, 89, 47, 76, 12]"
      ]
     },
     "execution_count": 12,
     "metadata": {},
     "output_type": "execute_result"
    }
   ],
   "source": [
    "# Listas podem ser concatenadas em Python\n",
    "lista1 + lista2"
   ]
  },
  {
   "cell_type": "code",
   "execution_count": 15,
   "id": "6ac06416",
   "metadata": {},
   "outputs": [
    {
     "name": "stdout",
     "output_type": "stream",
     "text": [
      "Soma dos valores pares:  208\n"
     ]
    }
   ],
   "source": [
    "# Some os números pares da primeira lista com os números pares da segunda lista\n",
    "lista3 = [10, 16, 24, 39, 38]\n",
    "lista4 = [32, 89, 47, 76, 12]\n",
    "soma = 0\n",
    "for num in lista3 + lista4:\n",
    "     if num % 2 == 0:\n",
    "        soma += num\n",
    "print(\"Soma dos valores pares: \", soma)"
   ]
  },
  {
   "cell_type": "code",
   "execution_count": 16,
   "id": "84c8bf89",
   "metadata": {},
   "outputs": [
    {
     "name": "stdout",
     "output_type": "stream",
     "text": [
      "Maior número:  215\n"
     ]
    }
   ],
   "source": [
    "# Loop em listas de listas (matrizes) para encontrar o maior número.\n",
    "matriz = [[42, 23, 34], [100, 215, 114], [10.1, 98.7, 12.3]]\n",
    "maior_numero = 0\n",
    "# Loop Externo\n",
    "for linha in matriz:\n",
    "    \n",
    "    #Loop externo\n",
    "    for num in linha:\n",
    "        \n",
    "        # Condicional\n",
    "        if num > maior_numero:\n",
    "            maior_numero = num\n",
    "print(\"Maior número: \", maior_numero)\n",
    "    "
   ]
  },
  {
   "cell_type": "code",
   "execution_count": 17,
   "id": "82fbf7c0",
   "metadata": {},
   "outputs": [
    {
     "name": "stdout",
     "output_type": "stream",
     "text": [
      "k1\n",
      "k2\n",
      "k3\n"
     ]
    }
   ],
   "source": [
    "# Listando as chaves de um dicionário\n",
    "dict = {\"k1\":\"Python\", \"k2\":\"R\", \"k3\":\"Scala\"}\n",
    "for item in dict:\n",
    "    print(item)"
   ]
  },
  {
   "cell_type": "code",
   "execution_count": 19,
   "id": "c1b97051",
   "metadata": {},
   "outputs": [
    {
     "name": "stdout",
     "output_type": "stream",
     "text": [
      "k1 Python\n",
      "k2 R\n",
      "k3 Scala\n"
     ]
    }
   ],
   "source": [
    "# Imprimindo chave e valor do dicionário, Usando o método items() para retornar os itens de um dicionário.\n",
    "for k,v in dict.items():\n",
    "    print(k,v)"
   ]
  },
  {
   "cell_type": "markdown",
   "id": "56510e4d",
   "metadata": {},
   "source": [
    "### Fim\n",
    "### Obrigado \n",
    "### Visite o BLog da Data Science Academy - Blog DSA"
   ]
  }
 ],
 "metadata": {
  "kernelspec": {
   "display_name": "Python 3 (ipykernel)",
   "language": "python",
   "name": "python3"
  },
  "language_info": {
   "codemirror_mode": {
    "name": "ipython",
    "version": 3
   },
   "file_extension": ".py",
   "mimetype": "text/x-python",
   "name": "python",
   "nbconvert_exporter": "python",
   "pygments_lexer": "ipython3",
   "version": "3.10.9"
  }
 },
 "nbformat": 4,
 "nbformat_minor": 5
}
