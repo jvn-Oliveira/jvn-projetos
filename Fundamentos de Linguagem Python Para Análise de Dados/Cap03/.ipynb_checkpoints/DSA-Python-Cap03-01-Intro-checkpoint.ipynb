{
 "cells": [
  {
   "cell_type": "markdown",
   "id": "a5ca98ad",
   "metadata": {},
   "source": [
    "# Data Science Academy\n",
    "## Fundamentos de Linguagem Python Para Análise de Dados e Data Science\n",
    "### Capítulo 3 - Introdução à Lógica de Programação"
   ]
  },
  {
   "cell_type": "code",
   "execution_count": 1,
   "id": "3f8036b7",
   "metadata": {},
   "outputs": [
    {
     "name": "stdout",
     "output_type": "stream",
     "text": [
      "Versão da Linguagem Python Usada Neste Jupyter Notebook:  3.10.9\n"
     ]
    }
   ],
   "source": [
    "# Versão da Linguagem Python\n",
    "from platform import python_version\n",
    "print('Versão da Linguagem Python Usada Neste Jupyter Notebook: ', python_version())"
   ]
  },
  {
   "cell_type": "markdown",
   "id": "fe41fc49",
   "metadata": {},
   "source": [
    "### Pressione as teclas shift e enter para executar o código em uma célula ou pressione o botão Run no menu superior."
   ]
  },
  {
   "cell_type": "markdown",
   "id": "fffed698",
   "metadata": {},
   "source": [
    "## Pseudocódigo 1 - Calcular a Área de Um Paralelograma\n",
    "#### Nota: Um paralelograma é um quadrilátero com lados opostos paralelos (e portanto ângulos opostos iguais). Um quadrilátero com lados iguais é chamado de losango e um paralelograma cujos os ângulos são todos retos é chamado de retândulo.\n",
    "\n",
    "\n",
    "#### Inicie\n",
    "####          Exiba \"Bem-Vindo ao calculador de Área de Paralelograma\"\n",
    "####          Peça para o usuário inserir o comprimento da base\n",
    "####          Armazene o comprimento da base em uma variável\n",
    "####          Peça ao usuário inserir a altura\n",
    "####          Armazene a altura em uma variável\n",
    "####          Calcule a área do paralelograma: base * altura\n",
    "####          Armazene o resultado em uma variável\n",
    "####          Exiba o resultado\n",
    "#### Fim"
   ]
  },
  {
   "cell_type": "markdown",
   "id": "1c3b57d5",
   "metadata": {},
   "source": [
    "## Convertendo o Pseudocódigo 1 em Programa Python"
   ]
  },
  {
   "cell_type": "code",
   "execution_count": 8,
   "id": "aed402a2",
   "metadata": {},
   "outputs": [
    {
     "name": "stdout",
     "output_type": "stream",
     "text": [
      "Bem-vindo ao calculador de Área de Paralelograma\n"
     ]
    }
   ],
   "source": [
    "print(\"Bem-vindo ao calculador de Área de Paralelograma\")"
   ]
  },
  {
   "cell_type": "code",
   "execution_count": 9,
   "id": "62f4b4ce",
   "metadata": {},
   "outputs": [
    {
     "name": "stdout",
     "output_type": "stream",
     "text": [
      "Insira o comprimento da base: 4\n"
     ]
    }
   ],
   "source": [
    "base = float(input(\"Insira o comprimento da base: \"))"
   ]
  },
  {
   "cell_type": "code",
   "execution_count": 10,
   "id": "a434ab3b",
   "metadata": {},
   "outputs": [
    {
     "name": "stdout",
     "output_type": "stream",
     "text": [
      "Insira a altura: 6\n"
     ]
    }
   ],
   "source": [
    "altura = float(input(\"Insira a altura: \"))"
   ]
  },
  {
   "cell_type": "code",
   "execution_count": 11,
   "id": "c21d9051",
   "metadata": {},
   "outputs": [],
   "source": [
    "area = base * altura"
   ]
  },
  {
   "cell_type": "code",
   "execution_count": 12,
   "id": "d2ac249e",
   "metadata": {},
   "outputs": [
    {
     "name": "stdout",
     "output_type": "stream",
     "text": [
      "A área do paralelograma é:  24.0\n"
     ]
    }
   ],
   "source": [
    "print(\"A área do paralelograma é: \", area)"
   ]
  },
  {
   "cell_type": "markdown",
   "id": "7639b0ac",
   "metadata": {},
   "source": [
    "## Pseudocódigo 2 - Calculadora Simples"
   ]
  },
  {
   "cell_type": "markdown",
   "id": "92518c1b",
   "metadata": {},
   "source": [
    "### Inicie\n",
    "####      Exiba \"Bem-vindo à calculadora\"\n",
    "####      Peça para o usuário inserir o primeiro número\n",
    "####      Armazene o primeiro número em uma variável\n",
    "####      Peça para o usuário inserir o segundo número\n",
    "####      Armazene o segundo número em uma variável\n",
    "####      Peça para o usuário selecionar uma operação (+, -, *, /)\n",
    "####      Armazene a operação em uma variável\n",
    "####      Utilize a operação selecionada e os números armazenados para realizar o cálculo\n",
    "####      Exiba o resultado\n",
    "#### Fim"
   ]
  },
  {
   "cell_type": "code",
   "execution_count": 13,
   "id": "73a709ce",
   "metadata": {},
   "outputs": [
    {
     "name": "stdout",
     "output_type": "stream",
     "text": [
      "Bem-vindo à Calculadora\n"
     ]
    }
   ],
   "source": [
    "print(\"Bem-vindo à Calculadora\")"
   ]
  },
  {
   "cell_type": "code",
   "execution_count": 14,
   "id": "14378dd1",
   "metadata": {},
   "outputs": [
    {
     "name": "stdout",
     "output_type": "stream",
     "text": [
      "Insira o primeiro número: 4\n"
     ]
    }
   ],
   "source": [
    "num1 = float(input(\"Insira o primeiro número: \"))"
   ]
  },
  {
   "cell_type": "code",
   "execution_count": 15,
   "id": "a638cf5f",
   "metadata": {},
   "outputs": [
    {
     "name": "stdout",
     "output_type": "stream",
     "text": [
      "Insira o segundo número: 10\n"
     ]
    }
   ],
   "source": [
    "num2 = float(input(\"Insira o segundo número: \"))"
   ]
  },
  {
   "cell_type": "code",
   "execution_count": 16,
   "id": "12a077e6",
   "metadata": {},
   "outputs": [
    {
     "name": "stdout",
     "output_type": "stream",
     "text": [
      "Selecione uma operação (+ , -, *, /)+\n"
     ]
    }
   ],
   "source": [
    "operação = input(\"Selecione uma operação (+ , -, *, /)\")"
   ]
  },
  {
   "cell_type": "code",
   "execution_count": 17,
   "id": "d5ce426d",
   "metadata": {},
   "outputs": [
    {
     "name": "stdout",
     "output_type": "stream",
     "text": [
      "O resultado é:  14.0\n"
     ]
    }
   ],
   "source": [
    "if operação == \"+\":\n",
    "    resultado = num1 + num2\n",
    "    print(\"O resultado é: \", resultado)\n",
    "elif operação == \"-\":\n",
    "    resultado = num1 - num2\n",
    "    print(\"O resultado é: \", resultado)\n",
    "elif operação == \"*\":\n",
    "    resultado = num1 * num2\n",
    "    print(\"O resultado é: \", resultado)\n",
    "elif operaçao == \"/\":\n",
    "    resultado = num1 / num2\n",
    "    print(\"O resultado é: \", resultado)\n",
    "else:\n",
    "    print(\"Operação inválida.\")\n"
   ]
  },
  {
   "cell_type": "markdown",
   "id": "6a923e1a",
   "metadata": {},
   "source": [
    "## Peseudocódigo 3 - Algoritmo Bubble Sorte"
   ]
  },
  {
   "cell_type": "markdown",
   "id": "fa1f21f5",
   "metadata": {},
   "source": [
    "#### O Bubble Sort é um algoritmo simples que funciona comparando cada elemento com o príxmo, e trocando-os de lugar se eles    \n",
    "#### estiverem em ordem incorreta. O algoritmo repete esse processo várias vezes, até que todos os elementos estejam ordenados.\n",
    "#### A cada passagem, o maior elemento \"flutua\" para o final do array, como uma bolha, dando origem ao nome do algoritmo."
   ]
  },
  {
   "cell_type": "markdown",
   "id": "c57eeb9d",
   "metadata": {},
   "source": [
    "### Inicie\n",
    "####      Para cada elemento i no array de tamanho n\n",
    "####         Para cada elemento j no array de tamanho n - 1\n",
    "####            Se elemento i for maior que elemento j\n",
    "####                Troque os elementos i e j\n",
    "####     Exiba o array ordenado\n",
    "#### Fim"
   ]
  },
  {
   "cell_type": "code",
   "execution_count": 20,
   "id": "36ef5474",
   "metadata": {},
   "outputs": [],
   "source": [
    "# Considere esta lista como exemplo para ordenação com o Bubble Sorte\n",
    "lista = [6, 3, 12, 7]"
   ]
  },
  {
   "cell_type": "code",
   "execution_count": 21,
   "id": "dc55d65b",
   "metadata": {},
   "outputs": [],
   "source": [
    "# Primeira passada do algoritmo (troca os elementos 6 e 3)\n",
    "lista = [3, 6, 12, 7]"
   ]
  },
  {
   "cell_type": "code",
   "execution_count": 22,
   "id": "3ab40f7c",
   "metadata": {},
   "outputs": [],
   "source": [
    "# Segunda passada do algoritmo (não tem troca entre 6 e 12)\n",
    "lista = [3, 6, 12, 7]"
   ]
  },
  {
   "cell_type": "code",
   "execution_count": 23,
   "id": "5d395a21",
   "metadata": {},
   "outputs": [],
   "source": [
    "# Terceira passada do algoritmo (troca os elementos 12 e 7 de lugar)\n",
    "lista = [3, 6, 7 , 12]"
   ]
  },
  {
   "cell_type": "markdown",
   "id": "544d554e",
   "metadata": {},
   "source": [
    "## Convertendo o Pseudocódigo 3 em programa Python"
   ]
  },
  {
   "cell_type": "code",
   "execution_count": 25,
   "id": "7bb2f29a",
   "metadata": {},
   "outputs": [],
   "source": [
    "lista = [6, 7, 8, 3, 10, 19, 4, 1, 0, 61, 30, 16, 17, 82, 29, 34, 43, 21, 11, 39, 67, 12]"
   ]
  },
  {
   "cell_type": "code",
   "execution_count": 28,
   "id": "6133cfff",
   "metadata": {},
   "outputs": [],
   "source": [
    "def bubble_sort(arr):\n",
    "    n = len(arr)\n",
    "    \n",
    "    # Para cada elemento i do array\n",
    "    for i in range(n):\n",
    "        \n",
    "        # Para cada elemento j do array\n",
    "        for j in range (0, n - i - 1):\n",
    "            \n",
    "            # Se elemento i for maior que elemento j\n",
    "            if arr[j] > arr[j+1]:\n",
    "                \n",
    "                # Troque os elementos i e j\n",
    "                arr[j], arr[j+1] = arr[j+1], arr[j]\n",
    "    return arr"
   ]
  },
  {
   "cell_type": "code",
   "execution_count": 31,
   "id": "748a79d5",
   "metadata": {},
   "outputs": [
    {
     "name": "stdout",
     "output_type": "stream",
     "text": [
      "[0, 1, 3, 4, 6, 7, 8, 10, 11, 12, 16, 17, 19, 21, 29, 30, 34, 39, 43, 61, 67, 82]\n"
     ]
    }
   ],
   "source": [
    "print(bubble_sort(lista))"
   ]
  },
  {
   "cell_type": "markdown",
   "id": "3a2170e8",
   "metadata": {},
   "source": [
    "#### Parece mágica! Mas não é. É a beleza da programação de computadores!"
   ]
  },
  {
   "cell_type": "code",
   "execution_count": 33,
   "id": "0a50fafa",
   "metadata": {},
   "outputs": [],
   "source": [
    "lista2 = [60, 80, 91, 3, 10, 110, 4, 1, 0, 61, 30, 16, 17, 82, 29, 34, 43, 21, 11, 39, 67, 12]"
   ]
  },
  {
   "cell_type": "code",
   "execution_count": 34,
   "id": "82e4daa5",
   "metadata": {},
   "outputs": [
    {
     "name": "stdout",
     "output_type": "stream",
     "text": [
      "[0, 1, 3, 4, 10, 11, 12, 16, 17, 21, 29, 30, 34, 39, 43, 60, 61, 67, 80, 82, 91, 110]\n"
     ]
    }
   ],
   "source": [
    "print(bubble_sort(lista2))"
   ]
  },
  {
   "cell_type": "markdown",
   "id": "4b4e0e36",
   "metadata": {},
   "source": [
    "# Fim"
   ]
  },
  {
   "cell_type": "code",
   "execution_count": null,
   "id": "83eecf9a",
   "metadata": {},
   "outputs": [],
   "source": []
  }
 ],
 "metadata": {
  "kernelspec": {
   "display_name": "Python 3 (ipykernel)",
   "language": "python",
   "name": "python3"
  },
  "language_info": {
   "codemirror_mode": {
    "name": "ipython",
    "version": 3
   },
   "file_extension": ".py",
   "mimetype": "text/x-python",
   "name": "python",
   "nbconvert_exporter": "python",
   "pygments_lexer": "ipython3",
   "version": "3.10.9"
  }
 },
 "nbformat": 4,
 "nbformat_minor": 5
}
